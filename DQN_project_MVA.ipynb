{
 "cells": [
  {
   "cell_type": "markdown",
   "metadata": {},
   "source": [
    "**You may need to install [OpenCV](https://pypi.python.org/pypi/opencv-python) and [scikit-video](http://www.scikit-video.org/stable/).**"
   ]
  },
  {
   "cell_type": "code",
   "execution_count": 1,
   "metadata": {},
   "outputs": [
    {
     "name": "stderr",
     "output_type": "stream",
     "text": [
      "Using TensorFlow backend.\n"
     ]
    }
   ],
   "source": [
    "import keras\n",
    "import numpy as np\n",
    "\n",
    "import io\n",
    "import base64\n",
    "from IPython.display import HTML\n",
    "import skvideo.io\n",
    "import cv2\n",
    "import json\n",
    "\n",
    "from keras.models import Sequential,model_from_json\n",
    "from keras.layers.core import Dense\n",
    "from keras.optimizers import sgd\n",
    "from keras.layers import Conv2D, MaxPooling2D, Activation, AveragePooling2D,Reshape,BatchNormalization, Flatten"
   ]
  },
  {
   "cell_type": "markdown",
   "metadata": {},
   "source": [
    "# MiniProject #3: Deep Reinforcement Learning"
   ]
  },
  {
   "cell_type": "markdown",
   "metadata": {},
   "source": [
    "__Notations__: $E_p$ is the expectation under probability $p$. Please justify each of your answer and widely comment your code."
   ]
  },
  {
   "cell_type": "markdown",
   "metadata": {},
   "source": [
    "# Context"
   ]
  },
  {
   "cell_type": "markdown",
   "metadata": {},
   "source": [
    "In a reinforcement learning algorithm, we modelize each step $t$ as an action $a_t$ obtained from a state $s_t$, i.e. $\\{(a_{t},s_{t})_{t\\leq T}\\}$ having the Markov property. We consider a discount factor $\\gamma \\in [0,1]$ that ensures convergence. The goal is to find among all the policies $\\pi$, one that maximizes the expected reward:\n",
    "\n",
    "\\begin{equation*}\n",
    "R(\\pi)=\\sum_{t\\leq T}E_{p^{\\pi}}[\\gamma^t r(s_{t},a_{t})] \\> ,\n",
    "\\end{equation*}\n",
    "\n",
    "where: \n",
    "\\begin{equation*}p^{\\pi}(a_{0},a_{1},s_{1},...,a_{T},s_{T})=p(a_{0})\\prod_{t=1}^{T}\\pi(a_{t}|s_{t})p(s_{t+1}|s_{t},a_{t}) \\> .\n",
    "\\end{equation*}\n",
    "\n",
    "We note the $Q$-function:\n",
    "\n",
    "\\begin{equation*}Q^\\pi(s,a)=E_{p^{\\pi}}[\\sum_{t\\leq T}\\gamma^{t}r(s_{t},a_{t})|s_{0}=s,a_{0}=a] \\> .\n",
    "\\end{equation*}\n",
    "\n",
    "Thus, the optimal Q function is:\n",
    "\\begin{equation*}\n",
    "Q^*(s,a)=\\max_{\\pi}Q^\\pi(s,a) \\> .\n",
    "\\end{equation*}\n",
    "\n",
    "In this project, we will apply the deep reinforcement learning techniques to a simple game: an agent will have to learn from scratch a policy that will permit it maximizing a reward."
   ]
  },
  {
   "cell_type": "markdown",
   "metadata": {},
   "source": [
    "## The environment, the agent and the game"
   ]
  },
  {
   "cell_type": "markdown",
   "metadata": {},
   "source": [
    "### The environment"
   ]
  },
  {
   "cell_type": "markdown",
   "metadata": {},
   "source": [
    "```Environment``` is an abstract class that represents the states, rewards, and actions to obtain the new state."
   ]
  },
  {
   "cell_type": "code",
   "execution_count": 2,
   "metadata": {},
   "outputs": [],
   "source": [
    "class Environment(object):\n",
    "    def __init__(self):\n",
    "        pass\n",
    "\n",
    "    def act(self, act):\n",
    "        \"\"\"\n",
    "        One can act on the environment and obtain its reaction:\n",
    "        - the new state\n",
    "        - the reward of the new state\n",
    "        - should we continue the game?\n",
    "\n",
    "        :return: state, reward, game_over\n",
    "        \"\"\"\n",
    "        pass\n",
    "\n",
    "\n",
    "    def reset(self):\n",
    "        \"\"\"\n",
    "        Reinitialize the environment to a random state and returns\n",
    "        the original state\n",
    "\n",
    "        :return: state\n",
    "        \"\"\"\n",
    "        pass\n",
    "    \n",
    "    def draw(self):\n",
    "        \"\"\"\n",
    "        Visualize in the console or graphically the current state\n",
    "        \"\"\"\n",
    "        pass"
   ]
  },
  {
   "cell_type": "markdown",
   "metadata": {},
   "source": [
    "The method ```act``` allows to act on the environment at a given state $s_t$ (stored internally), via action $a_t$. The method will return the new state $s_{t+1}$, the reward $r(s_{t},a_{t})$ and determines if $t\\leq T$ (*game_over*).\n",
    "\n",
    "The method ```reset``` simply reinitializes the environment to a random state $s_0$.\n",
    "\n",
    "The method ```draw``` displays the current state $s_t$ (this is useful to check the behavior of the Agent).\n",
    "\n",
    "We modelize $s_t$ as a tensor, while $a_t$ is an integer."
   ]
  },
  {
   "cell_type": "markdown",
   "metadata": {},
   "source": [
    "### The Agent"
   ]
  },
  {
   "cell_type": "markdown",
   "metadata": {},
   "source": [
    "The goal of the ```Agent``` is to interact with the ```Environment``` by proposing actions $a_t$ obtained from a given state $s_t$ to attempt to maximize its __reward__ $r(s_t,a_t)$. We propose the following abstract class:"
   ]
  },
  {
   "cell_type": "code",
   "execution_count": 3,
   "metadata": {},
   "outputs": [],
   "source": [
    "class Agent(object):\n",
    "    def __init__(self, epsilon=0.1, n_action=4):\n",
    "        self.epsilon = epsilon\n",
    "        self.n_action = n_action\n",
    "    \n",
    "    def set_epsilon(self,e):\n",
    "        self.epsilon = e\n",
    "\n",
    "    def act(self,s,train=True):\n",
    "        \"\"\" This function should return the next action to do:\n",
    "        an integer between 0 and 4 (not included) with a random exploration of epsilon\"\"\"\n",
    "        if train:\n",
    "            if np.random.rand() <= self.epsilon:\n",
    "                a = np.random.randint(0, self.n_action, size=1)[0]\n",
    "            else:\n",
    "                a = self.learned_act(s)\n",
    "        else: # in some cases, this can improve the performance.. remove it if poor performances\n",
    "            a = self.learned_act(s)\n",
    "\n",
    "        return a\n",
    "\n",
    "    def learned_act(self,s):\n",
    "        \"\"\" Act via the policy of the agent, from a given state s\n",
    "        it proposes an action a\"\"\"\n",
    "        pass\n",
    "\n",
    "    def reinforce(self, s, n_s, a, r, game_over_):\n",
    "        \"\"\" This function is the core of the learning algorithm. \n",
    "        It takes as an input the current state s_, the next state n_s_\n",
    "        the action a_ used to move from s_ to n_s_ and the reward r_.\n",
    "        \n",
    "        Its goal is to learn a policy.\n",
    "        \"\"\"\n",
    "        pass\n",
    "\n",
    "    def save(self):\n",
    "        \"\"\" This function returns basic stats if applicable: the\n",
    "        loss and/or the model\"\"\"\n",
    "        pass\n",
    "\n",
    "    def load(self):\n",
    "        \"\"\" This function allows to restore a model\"\"\"\n",
    "        pass"
   ]
  },
  {
   "cell_type": "markdown",
   "metadata": {},
   "source": [
    "***\n",
    "__Question 1__:\n",
    "Explain the function act. Why is ```epsilon``` essential?"
   ]
  },
  {
   "cell_type": "markdown",
   "metadata": {},
   "source": [
    "> The function act defines how to choose an action based on the epsilon rate. If the randomized number is larger than the epsilon rate, the agent takes actions from those it already learned(learned_act). But if the randomized number is larger than the epsilon rate, it does exploration by taking random actions.\n",
    "\n",
    "> The reason why epsilon is essential is that epsilon handles the exploration-exploitation tradeoff. At the begining, we tend to set a very high epsilon rate becasue we don't know anything about the states and rewards. The agent need to explore by taking random actions to updates the epected rewards for a given state and action. Then we can reduce the epsilon rate progressively as the agent becomes more confident at estimating the situation and action."
   ]
  },
  {
   "cell_type": "markdown",
   "metadata": {},
   "source": [
    "***\n",
    "### The Game"
   ]
  },
  {
   "cell_type": "markdown",
   "metadata": {},
   "source": [
    "The ```Agent``` and the ```Environment``` work in an interlaced way as in the following (take some time to understand this code as it is the core of the project)\n",
    "\n",
    "```python\n",
    "\n",
    "epoch = 300\n",
    "env = Environment()\n",
    "agent = Agent()\n",
    "\n",
    "\n",
    "# Number of won games\n",
    "score = 0\n",
    "loss = 0\n",
    "\n",
    "\n",
    "for e in range(epoch):\n",
    "    # At each epoch, we restart to a fresh game and get the initial state\n",
    "    state = env.reset()\n",
    "    # This assumes that the games will end\n",
    "    game_over = False\n",
    "\n",
    "    win = 0\n",
    "    lose = 0\n",
    "    \n",
    "    while not game_over:\n",
    "        # The agent performs an action\n",
    "        action = agent.act(state)\n",
    "\n",
    "        # Apply an action to the environment, get the next state, the reward\n",
    "        # and if the games end\n",
    "        prev_state = state\n",
    "        state, reward, game_over = env.act(action)\n",
    "\n",
    "        # Update the counters\n",
    "        if reward > 0:\n",
    "            win = win + reward\n",
    "        if reward < 0:\n",
    "            lose = lose -reward\n",
    "\n",
    "        # Apply the reinforcement strategy\n",
    "        loss = agent.reinforce(prev_state, state,  action, reward, game_over)\n",
    "\n",
    "    # Save as a mp4\n",
    "    if e % 10 == 0:\n",
    "        env.draw(e)\n",
    "\n",
    "    # Update stats\n",
    "    score += win-lose\n",
    "\n",
    "    print(\"Epoch {:03d}/{:03d} | Loss {:.4f} | Win/lose count {}/{} ({})\"\n",
    "          .format(e, epoch, loss, win, lose, win-lose))\n",
    "    agent.save()\n",
    "```"
   ]
  },
  {
   "cell_type": "markdown",
   "metadata": {},
   "source": [
    "# The game, *eat cheese*"
   ]
  },
  {
   "cell_type": "markdown",
   "metadata": {},
   "source": [
    "A rat runs on an island and tries to eat as much as possible. The island is subdivided into $N\\times N$ cells, in which there are cheese (+0.5) and poisonous cells (-1). The rat has a visibility of 2 cells (thus it can see $5^2$ cells). The rat is given a time $T$ to accumulate as much food as possible. It can perform 4 actions: going up, down, left, right. \n",
    "\n",
    "The goal is to code an agent to solve this task that will learn by trial and error. We propose the following environment:"
   ]
  },
  {
   "cell_type": "code",
   "execution_count": 4,
   "metadata": {},
   "outputs": [],
   "source": [
    "class Environment(object):\n",
    "    def __init__(self, grid_size=10, max_time=500, temperature=0.1):\n",
    "        grid_size = grid_size+4\n",
    "        self.grid_size = grid_size\n",
    "        self.max_time = max_time\n",
    "        self.temperature = temperature\n",
    "\n",
    "        #board on which one plays\n",
    "        self.board = np.zeros((grid_size,grid_size))\n",
    "        self.position = np.zeros((grid_size,grid_size))\n",
    "\n",
    "        # coordinate of the cat\n",
    "        self.x = 0\n",
    "        self.y = 1\n",
    "\n",
    "        # self time\n",
    "        self.t = 0\n",
    "\n",
    "        self.scale=16\n",
    "\n",
    "        self.to_draw = np.zeros((max_time+2, grid_size*self.scale, grid_size*self.scale, 3))\n",
    "\n",
    "\n",
    "    def draw(self,e):\n",
    "        \n",
    "        skvideo.io.vwrite(str(e) + '.mp4', self.to_draw)\n",
    "\n",
    "    def get_frame(self,t):\n",
    "        b = np.zeros((self.grid_size,self.grid_size,3))+128\n",
    "        b[self.board>0,0] = 256\n",
    "        b[self.board < 0, 2] = 256\n",
    "        b[self.x,self.y,:]=256\n",
    "        b[-2:,:,:]=0\n",
    "        b[:,-2:,:]=0\n",
    "        b[:2,:,:]=0\n",
    "        b[:,:2,:]=0\n",
    "        \n",
    "        b =  cv2.resize(b, None, fx=self.scale, fy=self.scale, interpolation=cv2.INTER_NEAREST)\n",
    "\n",
    "        self.to_draw[t,:,:,:]=b\n",
    "\n",
    "\n",
    "    def act(self, action):\n",
    "        \"\"\"This function returns the new state, reward and decides if the\n",
    "        game ends.\"\"\"\n",
    "\n",
    "        self.get_frame(int(self.t))\n",
    "\n",
    "        self.position = np.zeros((self.grid_size, self.grid_size))\n",
    "\n",
    "        self.position[0:2,:]= -1\n",
    "        self.position[:,0:2] = -1\n",
    "        self.position[-2:, :] = -1\n",
    "        self.position[-2:, :] = -1\n",
    "\n",
    "        self.position[self.x, self.y] = 1\n",
    "        if action == 0:\n",
    "            if self.x == self.grid_size-3:\n",
    "                self.x = self.x-1\n",
    "            else:\n",
    "                self.x = self.x + 1\n",
    "        elif action == 1:\n",
    "            if self.x == 2:\n",
    "                self.x = self.x+1\n",
    "            else:\n",
    "                self.x = self.x-1\n",
    "        elif action == 2:\n",
    "            if self.y == self.grid_size - 3:\n",
    "                self.y = self.y - 1\n",
    "            else:\n",
    "                self.y = self.y + 1\n",
    "        elif action == 3:\n",
    "            if self.y == 2:\n",
    "                self.y = self.y + 1\n",
    "            else:\n",
    "                self.y = self.y - 1\n",
    "        else:\n",
    "            RuntimeError('Error: action not recognized')\n",
    "\n",
    "        self.t = self.t + 1\n",
    "        reward = self.board[self.x, self.y]\n",
    "        self.board[self.x, self.y] = 0\n",
    "        game_over = self.t > self.max_time\n",
    "        state = np.concatenate((self.board.reshape(self.grid_size, self.grid_size,1),\n",
    "                        self.position.reshape(self.grid_size, self.grid_size,1)),axis=2)\n",
    "        state = state[self.x-2:self.x+3,self.y-2:self.y+3,:]\n",
    "\n",
    "        return state, reward, game_over\n",
    "\n",
    "    def reset(self):\n",
    "        \"\"\"This function resets the game and returns the initial state\"\"\"\n",
    "\n",
    "        self.x = np.random.randint(3, self.grid_size-3, size=1)[0]\n",
    "        self.y = np.random.randint(3, self.grid_size-3, size=1)[0]\n",
    "\n",
    "\n",
    "        bonus = 0.5*np.random.binomial(1,self.temperature,size=self.grid_size**2)\n",
    "        bonus = bonus.reshape(self.grid_size,self.grid_size)\n",
    "\n",
    "        malus = -1.0*np.random.binomial(1,self.temperature,size=self.grid_size**2)\n",
    "        malus = malus.reshape(self.grid_size, self.grid_size)\n",
    "\n",
    "        self.to_draw = np.zeros((self.max_time+2, self.grid_size*self.scale, self.grid_size*self.scale, 3))\n",
    "\n",
    "\n",
    "        malus[bonus>0]=0\n",
    "\n",
    "        self.board = bonus + malus\n",
    "\n",
    "        self.position = np.zeros((self.grid_size, self.grid_size))\n",
    "        self.position[0:2,:]= -1\n",
    "        self.position[:,0:2] = -1\n",
    "        self.position[-2:, :] = -1\n",
    "        self.position[-2:, :] = -1\n",
    "        self.board[self.x,self.y] = 0\n",
    "        self.t = 0\n",
    "\n",
    "        state = np.concatenate((\n",
    "                               self.board.reshape(self.grid_size, self.grid_size,1),\n",
    "                        self.position.reshape(self.grid_size, self.grid_size,1)),axis=2)\n",
    "\n",
    "        state = state[self.x - 2:self.x + 3, self.y - 2:self.y + 3, :]\n",
    "        return state"
   ]
  },
  {
   "cell_type": "markdown",
   "metadata": {},
   "source": [
    "The following elements are important because they correspond to the hyper parameters for this project:"
   ]
  },
  {
   "cell_type": "code",
   "execution_count": 5,
   "metadata": {},
   "outputs": [],
   "source": [
    "# parameters\n",
    "size = 13\n",
    "T=200\n",
    "temperature=0.3\n",
    "epochs_train=20 # set small when debugging\n",
    "epochs_test=10 # set small when debugging\n",
    "\n",
    "# display videos\n",
    "def display_videos(name):\n",
    "    video = io.open(name, 'r+b').read()\n",
    "    encoded = base64.b64encode(video)\n",
    "    return '''<video alt=\"test\" controls>\n",
    "                <source src=\"data:video/mp4;base64,{0}\" type=\"video/mp4\" />\n",
    "             </video>'''.format(encoded.decode('ascii'))"
   ]
  },
  {
   "cell_type": "markdown",
   "metadata": {},
   "source": [
    "__Question 2__ Explain the use of the arrays ```position``` and ```board```."
   ]
  },
  {
   "cell_type": "markdown",
   "metadata": {},
   "source": [
    ">array ```positon``` represents the postion of the rat on the play board. -1 stands for where the rat can't go. Those are barriers. 1 stands for the current postion of rat. 0 stands for the other places that the rat can go expect its current position.\n",
    "\n",
    ">array ```board``` contains the reward information of the game. It has size (grid_size+4, grid_size+4). The position on the board can be 0,0.5 or -1. 0 means no reward. +0.5 means a reward(here a cheese) and -1 means punishiment(here is poisonous cell)."
   ]
  },
  {
   "cell_type": "markdown",
   "metadata": {},
   "source": [
    "## Random Agent"
   ]
  },
  {
   "cell_type": "markdown",
   "metadata": {},
   "source": [
    "***\n",
    "__Question 3__ Implement a random Agent (only ```learned_act``` needs to be implemented):"
   ]
  },
  {
   "cell_type": "code",
   "execution_count": 6,
   "metadata": {},
   "outputs": [],
   "source": [
    "class RandomAgent(Agent):\n",
    "    def __init__(self):\n",
    "        super(RandomAgent, self).__init__()\n",
    "        pass\n",
    "\n",
    "    def learned_act(self, s):\n",
    "        act_rand = np.random.randint(4)\n",
    "        return act_rand"
   ]
  },
  {
   "cell_type": "markdown",
   "metadata": {},
   "source": [
    "***\n",
    "***\n",
    "__Question 4__ Visualize the game moves. You need to fill in the following function for the evaluation:"
   ]
  },
  {
   "cell_type": "code",
   "execution_count": 7,
   "metadata": {},
   "outputs": [],
   "source": [
    "def test(agent,env,epochs,prefix=''):\n",
    "    # Number of won games\n",
    "    score = 0\n",
    "        \n",
    "    for e in range(epochs):\n",
    "        \n",
    "        state = env.reset()\n",
    "        win = 0\n",
    "        lose = 0\n",
    "        game_over = False\n",
    "        \n",
    "        while not game_over:\n",
    "            a = agent.learned_act(state)\n",
    "            \n",
    "            state, reward, game_over = env.act(a)\n",
    "            \n",
    "            # Update the counters\n",
    "            if reward > 0:\n",
    "                win = win + reward\n",
    "            if reward < 0:\n",
    "                lose = lose -reward\n",
    "        \n",
    "        # Save as a mp4\n",
    "        env.draw(prefix+str(e))\n",
    "\n",
    "        # Update stats\n",
    "        score = score + win-lose\n",
    "\n",
    "        print(\"Win/lose count {}/{}. Average score ({})\"\n",
    "              .format(win, lose, score/(1+e)))\n",
    "    print('Final score: '+str(score/epochs))"
   ]
  },
  {
   "cell_type": "code",
   "execution_count": 8,
   "metadata": {},
   "outputs": [
    {
     "name": "stdout",
     "output_type": "stream",
     "text": [
      "Win/lose count 10.0/14.0. Average score (-4.0)\n",
      "Win/lose count 13.5/19.0. Average score (-4.75)\n",
      "Win/lose count 7.5/12.0. Average score (-4.666666666666667)\n",
      "Win/lose count 8.5/13.0. Average score (-4.625)\n",
      "Win/lose count 16.0/17.0. Average score (-3.9)\n",
      "Win/lose count 10.5/22.0. Average score (-5.166666666666667)\n",
      "Win/lose count 10.5/9.0. Average score (-4.214285714285714)\n",
      "Win/lose count 9.5/20.0. Average score (-5.0)\n",
      "Win/lose count 12.5/17.0. Average score (-4.944444444444445)\n",
      "Win/lose count 10.5/11.0. Average score (-4.5)\n",
      "Final score: -4.5\n"
     ]
    },
    {
     "data": {
      "text/html": [
       "<video alt=\"test\" controls>\n",
       "                <source src=\"data:video/mp4;base64,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\" type=\"video/mp4\" />\n",
       "             </video>"
      ],
      "text/plain": [
       "<IPython.core.display.HTML object>"
      ]
     },
     "execution_count": 8,
     "metadata": {},
     "output_type": "execute_result"
    }
   ],
   "source": [
    "# Initialize the game\n",
    "env = Environment(grid_size=size, max_time=T,temperature=temperature)\n",
    "\n",
    "# Initialize the agent!\n",
    "agent = RandomAgent()\n",
    "\n",
    "test(agent,env,epochs_test,prefix='random')\n",
    "HTML(display_videos('random10.mp4'))"
   ]
  },
  {
   "cell_type": "markdown",
   "metadata": {},
   "source": [
    "***\n",
    "## DQN"
   ]
  },
  {
   "cell_type": "markdown",
   "metadata": {},
   "source": [
    "Let us assume here that $T=\\infty$.\n",
    "\n",
    "***\n",
    "__Question 5__ Let $\\pi$ be a policy, show that:\n",
    "\n",
    "\\begin{equation*}\n",
    "Q^{\\pi}(s,a)=E_{(s',a')\\sim p(.|s,a)}[r(s,a)+\\gamma Q^{\\pi}(s',a')]\n",
    "\\end{equation*}\n",
    "\n",
    "Then, show that for the optimal policy $\\pi^*$ (we assume its existence), the following holds: \n",
    "\n",
    "\\begin{equation*}\n",
    "Q^{*}(s,a)=E_{s'\\sim \\pi^*(.|s,a)}[r(s,a)+\\gamma\\max_{a'}Q^{*}(s',a')].\n",
    "\\end{equation*}\n",
    "Finally, deduce that a plausible objective is:\n",
    "\n",
    "\\begin{equation*}\n",
    "\\mathcal{L}(\\theta)=E_{s' \\sim \\pi^*(.|s,a)}\\Vert r+\\gamma\\max\\max_{a'}Q(s',a',\\theta)-Q(s,a,\\theta)\\Vert^{2}.\n",
    "\\end{equation*}\n",
    "\n",
    "\n"
   ]
  },
  {
   "cell_type": "markdown",
   "metadata": {},
   "source": [
    ">The value of taking an action in a state under policy $\\pi$ is the expected return starting from that state, taking that action, and thereafter following $\\pi$.\\\\\n",
    "the expected maximum future reward of a given state and action:\n",
    "$$R_t = r_{t+1} +\\gamma r_{t+2}+\\gamma^2 r_{t+3}+ \\gamma^3 r_{t+4}...=r_{t+1} +\\gamma( r_{t+2}+\\gamma r_{t+3}+ \\gamma^2 r_{t+4}...)=r_{t+1} +\\gamma R_{t+1}$$\n",
    "$0 \\leq \\gamma \\leq 1$ is the discount rate.So:\n",
    "$$Q^{\\pi}(s,a)=E_{(s',a')\\sim p(.|s,a)}[r(s,a)+\\gamma Q^{\\pi}(s',a')]$$\n",
    "\n",
    ">The optimal action-value function $Q^*(s,a)$ is the maximum action-value function over all policies:\n",
    "$$Q^*(s,a) = \\max_{\\pi} Q_{\\pi}(s,a)$$\n",
    "We get the best policy by 'extracting' the best action for each state, therefore:\n",
    "$$\\pi^*(s) = arg\\max_{a\\in A} \\sum P(s',r|s,a)\\times (r+\\gamma V*(s')) = arg\\max_a Q*(s,a)$$\n",
    "Therefore, we get the maximum expected Q value by 'extracting' the best action for each future state, and we can conclude that:\n",
    "$$Q^{*}(s,a)=E_{s'\\sim \\pi^*(.|s,a)}[r(s,a)+\\gamma\\max_{a'}Q^{*}(s',a')]$$"
   ]
  },
  {
   "cell_type": "markdown",
   "metadata": {},
   "source": [
    "***\n",
    "The DQN-learning algorithm relies on these derivations to train the parameters $\\theta$ of a Deep Neural Network:\n",
    "\n",
    "1. At the state $s_t$, select the action $a_t$ with best reward using $Q_t$ and store the results;\n",
    "\n",
    "2. Obtain the new state $s_{t+1}$ from the environment $p$;\n",
    "\n",
    "3. Store $(s_t,a_t,s_{t+1})$;\n",
    "\n",
    "4. Obtain $Q_{t+1}$ by minimizing  $\\mathcal{L}$ from a recovered batch from the previously stored results.\n",
    "\n",
    "***\n",
    "__Question 6__ Implement the class ```Memory``` that stores moves (in a replay buffer) via ```remember``` and provides a ```random_access``` to these. Specify a maximum memory size to avoid side effects. You can for example use a ```list()``` and set by default ```max_memory=100```."
   ]
  },
  {
   "cell_type": "code",
   "execution_count": 9,
   "metadata": {},
   "outputs": [],
   "source": [
    "class Memory(object):\n",
    "    def __init__(self, max_memory=100):\n",
    "        self.max_memory = max_memory\n",
    "        self.memory = list()\n",
    "\n",
    "    def remember(self, m):\n",
    "        return self.memory.append(m)\n",
    "\n",
    "    def random_access(self):\n",
    "        total_memory = len(self.memory)\n",
    "        access = np.random.randint(total_memory)\n",
    "        return self.memory[access]"
   ]
  },
  {
   "cell_type": "markdown",
   "metadata": {},
   "source": [
    "***\n",
    "The pipeline we will use for training is given below:"
   ]
  },
  {
   "cell_type": "code",
   "execution_count": 10,
   "metadata": {},
   "outputs": [],
   "source": [
    "def train(agent,env,epoch,prefix=''):\n",
    "    # Number of won games\n",
    "    score = 0\n",
    "    loss = 0\n",
    "\n",
    "    for e in range(epoch):\n",
    "        # At each epoch, we restart to a fresh game and get the initial state\n",
    "        state = env.reset()\n",
    "        # This assumes that the games will terminate\n",
    "        game_over = False\n",
    "\n",
    "        win = 0\n",
    "        lose = 0\n",
    "\n",
    "        while not game_over:\n",
    "            # The agent performs an action\n",
    "            action = agent.act(state)\n",
    "\n",
    "            # Apply an action to the environment, get the next state, the reward\n",
    "            # and if the games end\n",
    "            prev_state = state\n",
    "            state, reward, game_over = env.act(action)\n",
    "\n",
    "            # Update the counters\n",
    "            if reward > 0:\n",
    "                win = win + reward\n",
    "            if reward < 0:\n",
    "                lose = lose -reward\n",
    "\n",
    "            # Apply the reinforcement strategy\n",
    "            loss = agent.reinforce(prev_state, state,  action, reward, game_over)\n",
    "\n",
    "        # Save as a mp4\n",
    "        if e % 10 == 0:\n",
    "            env.draw(prefix+str(e))\n",
    "\n",
    "        # Update stats\n",
    "        score += win-lose\n",
    "\n",
    "        print(\"Epoch {:03d}/{:03d} | Loss {:.4f} | Win/lose count {}/{} ({})\"\n",
    "              .format(e, epoch, loss, win, lose, win-lose))\n",
    "        agent.save(name_weights=prefix+'model.h5',name_model=prefix+'model.json')"
   ]
  },
  {
   "cell_type": "markdown",
   "metadata": {},
   "source": [
    "***\n",
    "__Question 7__ Implement the DQN training algorithm using a cascade of fully connected layers. You can use different learning rate, batch size or memory size parameters. In particular, the loss might oscillate while the player will start to win the games. You have to find a good criterium."
   ]
  },
  {
   "cell_type": "code",
   "execution_count": 11,
   "metadata": {},
   "outputs": [],
   "source": [
    "class DQN(Agent):\n",
    "    def __init__(self, grid_size,  epsilon = 0.1, memory_size=100, batch_size = 16,n_state=2):\n",
    "        super(DQN, self).__init__(epsilon = epsilon)\n",
    "\n",
    "        # Discount for Q learning\n",
    "        self.discount = 0.99\n",
    "        \n",
    "        self.grid_size = grid_size\n",
    "        \n",
    "        # number of state\n",
    "        self.n_state = n_state\n",
    "\n",
    "        # Memory\n",
    "        self.memory = Memory(memory_size)\n",
    "        \n",
    "        # Batch size when learning\n",
    "        self.batch_size = batch_size\n",
    "\n",
    "    def learned_act(self, s):\n",
    "        # the agent takes actions from learned_act for exploitation (the randomized number larger than epsilon rate)\n",
    "        act_learned = np.argmax(self.model.predict(np.expand_dims(s,0)))\n",
    "        return act_learned\n",
    "\n",
    "    def reinforce(self, s_, n_s_, a_, r_, game_over_):\n",
    "        # Two steps: first memorize the states, second learn from the pool\n",
    "\n",
    "        self.memory.remember([s_, n_s_, a_, r_, game_over_])\n",
    "        \n",
    "        input_states = np.zeros((self.batch_size, 5,5,self.n_state))\n",
    "        target_q = np.zeros((self.batch_size, 4))\n",
    "        \n",
    "        for i in range(self.batch_size):\n",
    "            ######## FILL IN\n",
    "            # First initial state, action, reward, next_state and game_over\n",
    "            state0, next_state0,action0,reward0,game_over0 = self.memory.random_access()\n",
    "            #record each state\n",
    "            input_states[i] = state0\n",
    "            \n",
    "            target_q[i] = self.model.predict(np.expand_dims(state0,0))\n",
    "            \n",
    "            if game_over_:\n",
    "                ######## FILL IN\n",
    "                target_q[i,action0] = reward0\n",
    "            else:\n",
    "                ######## FILL IN\n",
    "                target_q[i,action0] = reward0 +self.discount*np.max(self.model.predict(np.expand_dims(next_state0,0)))\n",
    "                \n",
    "        ######## FILL IN\n",
    "        # HINT: Clip the target to avoid exploiding gradients.. -- clipping is a bit tighter\n",
    "        target_q = np.clip(target_q, -3, 3)\n",
    "\n",
    "        l = self.model.train_on_batch(input_states, target_q)\n",
    "\n",
    "\n",
    "        return l\n",
    "\n",
    "    def save(self,name_weights='model.h5',name_model='model.json'):\n",
    "        self.model.save_weights(name_weights, overwrite=True)\n",
    "        with open(name_model, \"w\") as outfile:\n",
    "            json.dump(self.model.to_json(), outfile)\n",
    "            \n",
    "    def load(self,name_weights='model.h5',name_model='model.json'):\n",
    "        with open(name_model, \"r\") as jfile:\n",
    "            model = model_from_json(json.load(jfile))\n",
    "        model.load_weights(name_weights)\n",
    "        model.compile(\"sgd\", \"mse\")\n",
    "        self.model = model\n",
    "\n",
    "            \n",
    "class DQN_FC(DQN):\n",
    "    def __init__(self, *args, lr=0.1,**kwargs):\n",
    "        super(DQN_FC, self).__init__( *args,**kwargs)\n",
    "        \n",
    "        # NN Model\n",
    "        \n",
    "        ####### FILL IN\n",
    "        model = Sequential()\n",
    "        model.add(Dense(20, input_shape=(5,5,self.n_state), activation='relu'))\n",
    "        model.add(Flatten())\n",
    "        model.add(Dense(10, activation = 'relu'))\n",
    "        model.add(Dense(4))\n",
    "        \n",
    "        #model.compile(sgd(lr=lr, decay=1e-4, momentum=0.0), \"mse\")\n",
    "        model.compile('adam', \"mse\")\n",
    "        self.model = model\n",
    "        "
   ]
  },
  {
   "cell_type": "code",
   "execution_count": 14,
   "metadata": {},
   "outputs": [
    {
     "name": "stdout",
     "output_type": "stream",
     "text": [
      "Epoch 000/020 | Loss 1.2224 | Win/lose count 4.0/7.0 (-3.0)\n",
      "Epoch 001/020 | Loss 1.8802 | Win/lose count 1.5/4.0 (-2.5)\n",
      "Epoch 002/020 | Loss 1.9266 | Win/lose count 6.0/2.0 (4.0)\n",
      "Epoch 003/020 | Loss 1.9832 | Win/lose count 3.5/1.0 (2.5)\n",
      "Epoch 004/020 | Loss 1.8183 | Win/lose count 2.0/1.0 (1.0)\n",
      "Epoch 005/020 | Loss 1.8188 | Win/lose count 6.0/3.0 (3.0)\n",
      "Epoch 006/020 | Loss 1.8078 | Win/lose count 5.5/2.0 (3.5)\n",
      "Epoch 007/020 | Loss 1.7181 | Win/lose count 7.0/1.0 (6.0)\n",
      "Epoch 008/020 | Loss 1.7585 | Win/lose count 7.0/2.0 (5.0)\n",
      "Epoch 009/020 | Loss 1.8354 | Win/lose count 7.5/6.0 (1.5)\n",
      "Epoch 010/020 | Loss 1.8264 | Win/lose count 1.0/3.0 (-2.0)\n",
      "Epoch 011/020 | Loss 1.8979 | Win/lose count 2.0/0 (2.0)\n",
      "Epoch 012/020 | Loss 1.7580 | Win/lose count 6.5/5.0 (1.5)\n",
      "Epoch 013/020 | Loss 1.7621 | Win/lose count 4.5/2.0 (2.5)\n",
      "Epoch 014/020 | Loss 1.8523 | Win/lose count 6.5/4.0 (2.5)\n",
      "Epoch 015/020 | Loss 1.8495 | Win/lose count 7.5/4.0 (3.5)\n",
      "Epoch 016/020 | Loss 1.7375 | Win/lose count 4.5/1.0 (3.5)\n",
      "Epoch 017/020 | Loss 1.7444 | Win/lose count 13.0/3.0 (10.0)\n",
      "Epoch 018/020 | Loss 1.6924 | Win/lose count 7.0/5.0 (2.0)\n",
      "Epoch 019/020 | Loss 1.7154 | Win/lose count 3.5/3.0 (0.5)\n"
     ]
    }
   ],
   "source": [
    "env = Environment(grid_size=size, max_time=T, temperature=0.3)\n",
    "agent = DQN_FC(size, lr=.1, epsilon = 0.1, memory_size=2000, batch_size = 32)\n",
    "train(agent, env, epochs_train, prefix='fc_train')\n",
    "HTML(display_videos('fc_train10.mp4'))"
   ]
  },
  {
   "cell_type": "markdown",
   "metadata": {},
   "source": [
    "***\n",
    "***\n",
    "__Question 8__ Implement the DQN training algorithm using a CNN (for example, 2 convolutional layers and one final fully connected layer)."
   ]
  },
  {
   "cell_type": "code",
   "execution_count": 15,
   "metadata": {},
   "outputs": [],
   "source": [
    "class DQN_CNN(DQN):\n",
    "    def __init__(self, *args,lr=0.1,**kwargs):\n",
    "        super(DQN_CNN, self).__init__(*args,**kwargs)\n",
    "        \n",
    "        ###### FILL IN\n",
    "        model = Sequential()\n",
    "        model.add(Conv2D(50,(2,2),input_shape=(5,5,self.n_state,),activation='relu'))\n",
    "        model.add(Conv2D(30,(2,2),activation='relu'))\n",
    "        model.add(Flatten())\n",
    "        #model.add(Dense(50, activation='relu'))\n",
    "        model.add(Dense(4))\n",
    "        \n",
    "        model.compile(sgd(lr=lr, decay=1e-4, momentum=0.0), \"mse\")\n",
    "        self.model = model"
   ]
  },
  {
   "cell_type": "code",
   "execution_count": 16,
   "metadata": {},
   "outputs": [
    {
     "name": "stdout",
     "output_type": "stream",
     "text": [
      "Epoch 000/020 | Loss 0.0323 | Win/lose count 2.0/1.0 (1.0)\n",
      "Epoch 001/020 | Loss 0.0499 | Win/lose count 1.5/4.0 (-2.5)\n",
      "Epoch 002/020 | Loss 0.0686 | Win/lose count 3.0/5.0 (-2.0)\n",
      "Epoch 003/020 | Loss 0.1215 | Win/lose count 5.5/6.0 (-0.5)\n",
      "Epoch 004/020 | Loss 0.2147 | Win/lose count 2.0/1.0 (1.0)\n",
      "Epoch 005/020 | Loss 0.3411 | Win/lose count 4.5/3.0 (1.5)\n",
      "Epoch 006/020 | Loss 0.6352 | Win/lose count 4.5/2.0 (2.5)\n",
      "Epoch 007/020 | Loss 0.8475 | Win/lose count 3.5/5.0 (-1.5)\n",
      "Epoch 008/020 | Loss 1.6119 | Win/lose count 5.0/3.0 (2.0)\n",
      "Epoch 009/020 | Loss 1.8769 | Win/lose count 6.0/3.0 (3.0)\n",
      "Epoch 010/020 | Loss 1.8717 | Win/lose count 8.5/2.0 (6.5)\n",
      "Epoch 011/020 | Loss 1.8029 | Win/lose count 4.5/2.0 (2.5)\n",
      "Epoch 012/020 | Loss 1.8561 | Win/lose count 10.0/6.0 (4.0)\n",
      "Epoch 013/020 | Loss 1.8747 | Win/lose count 6.5/2.0 (4.5)\n",
      "Epoch 014/020 | Loss 1.8738 | Win/lose count 2.5/1.0 (1.5)\n",
      "Epoch 015/020 | Loss 1.8900 | Win/lose count 11.5/2.0 (9.5)\n",
      "Epoch 016/020 | Loss 1.8087 | Win/lose count 7.5/3.0 (4.5)\n",
      "Epoch 017/020 | Loss 1.9269 | Win/lose count 1.5/3.0 (-1.5)\n",
      "Epoch 018/020 | Loss 1.9283 | Win/lose count 3.5/2.0 (1.5)\n",
      "Epoch 019/020 | Loss 1.8649 | Win/lose count 5.0/5.0 (0.0)\n"
     ]
    }
   ],
   "source": [
    "env = Environment(grid_size=size, max_time=T, temperature=0.3)\n",
    "agent = DQN_CNN(size, lr=.1, epsilon = 0.1, memory_size=2000, batch_size = 32)\n",
    "train(agent,env,epochs_train,prefix='cnn_train')\n",
    "HTML(display_videos('cnn_train10.mp4'))"
   ]
  },
  {
   "cell_type": "markdown",
   "metadata": {},
   "source": [
    "***\n",
    "***\n",
    "__Question 9__ Test both algorithms and compare their performances. Which issue(s) do you observe? Observe also different behaviors by changing the temperature."
   ]
  },
  {
   "cell_type": "code",
   "execution_count": 17,
   "metadata": {},
   "outputs": [
    {
     "name": "stdout",
     "output_type": "stream",
     "text": [
      "Test of the CNN\n",
      "Win/lose count 3.0/0. Average score (3.0)\n",
      "Win/lose count 0.5/0. Average score (1.75)\n",
      "Win/lose count 1.0/0. Average score (1.5)\n",
      "Win/lose count 4.0/0. Average score (2.125)\n",
      "Win/lose count 1.5/1.0. Average score (1.8)\n",
      "Win/lose count 1.0/0. Average score (1.6666666666666667)\n",
      "Win/lose count 3.5/0. Average score (1.9285714285714286)\n",
      "Win/lose count 2.0/0. Average score (1.9375)\n",
      "Win/lose count 5.0/0. Average score (2.2777777777777777)\n",
      "Win/lose count 1.5/0. Average score (2.2)\n",
      "Final score: 2.2\n",
      "Test of the FC\n",
      "Win/lose count 1.0/1.0. Average score (0.0)\n",
      "Win/lose count 0.5/0. Average score (0.25)\n",
      "Win/lose count 0.5/0. Average score (0.3333333333333333)\n",
      "Win/lose count 0/1.0. Average score (0.0)\n",
      "Win/lose count 1.0/2.0. Average score (-0.2)\n",
      "Win/lose count 1.5/0. Average score (0.08333333333333333)\n",
      "Win/lose count 0.5/0. Average score (0.14285714285714285)\n",
      "Win/lose count 0.5/0. Average score (0.1875)\n",
      "Win/lose count 1.0/0. Average score (0.2777777777777778)\n",
      "Win/lose count 0/0. Average score (0.25)\n",
      "Final score: 0.25\n"
     ]
    }
   ],
   "source": [
    "env = Environment(grid_size=size, max_time=T,temperature=0.3)\n",
    "agent_cnn = DQN_CNN(size, lr=.1, epsilon = 0.1, memory_size=2000, batch_size = 32)\n",
    "agent_cnn.load(name_weights='cnn_trainmodel.h5',name_model='cnn_trainmodel.json')\n",
    "\n",
    "agent_fc = DQN_FC(size, lr=.1, epsilon = 0.1, memory_size=2000, batch_size = 32)\n",
    "agent_cnn.load(name_weights='fc_trainmodel.h5',name_model='fc_trainmodel.json')\n",
    "print('Test of the CNN')\n",
    "test(agent_cnn,env,epochs_test,prefix='cnn_test')\n",
    "print('Test of the FC')\n",
    "test(agent_fc,env,epochs_test,prefix='fc_test')"
   ]
  },
  {
   "cell_type": "code",
   "execution_count": 18,
   "metadata": {},
   "outputs": [],
   "source": [
    "HTML(display_videos('cnn_test10.mp4'))"
   ]
  },
  {
   "cell_type": "code",
   "execution_count": 19,
   "metadata": {},
   "outputs": [],
   "source": [
    "HTML(display_videos('fc_test10.mp4'))"
   ]
  },
  {
   "cell_type": "markdown",
   "metadata": {},
   "source": [
    "> Comparing the final score, CNN performs better than fully connected network. And we can observe from the videos that both methods suffer the same problem. The agent easily stuck in a loop after several exploration and exploitation. In this loop, the actions the agent take will not decrease the score but not increase the performance neither. In order to address this problem, we can adjust the epsilon rate, allowing the agent to do more exploration. Also, we can slightly increase the tempareture which help improve the performance a little bit."
   ]
  },
  {
   "cell_type": "markdown",
   "metadata": {},
   "source": [
    "***\n",
    "\n",
    "The algorithm tends to not explore the map which can be an issue. We propose two ideas in order to encourage exploration:\n",
    "1. Incorporating a decreasing $\\epsilon$-greedy exploration. You can use the method ```set_epsilon```\n",
    "2. Append via the environment a new state that describes if a cell has been visited or not\n",
    "\n",
    "***\n",
    "__Question 10__ Design a new ```train_explore``` function and environment class ```EnvironmentExploring``` to tackle the issue of exploration.\n",
    "\n"
   ]
  },
  {
   "cell_type": "code",
   "execution_count": 20,
   "metadata": {},
   "outputs": [],
   "source": [
    "def train_explore(agent,env,epoch,epsilon = 0.1,decay_epsilon = 0.3,prefix=''):\n",
    "    # Number of won games\n",
    "    score = 0\n",
    "    loss = 0\n",
    "\n",
    "    for e in range(epoch):\n",
    "        state = env.reset() \n",
    "        game_over = False\n",
    "\n",
    "        win = 0\n",
    "        lose = 0\n",
    "        \n",
    "        agent.set_epsilon(epsilon)\n",
    "        \n",
    "        while not game_over:\n",
    "            # The agent performs an action\n",
    "            action = agent.act(state)\n",
    "            agent.set_epsilon(agent.epsilon*(1-decay_epsilon))\n",
    "            prev_state = state\n",
    "            state, reward, game_over = env.act(action, train=True)\n",
    "\n",
    "            # Update the counters\n",
    "            if reward > 0:\n",
    "                win = win + reward\n",
    "            if reward < 0:\n",
    "                lose = lose -reward\n",
    "                \n",
    "            # Apply the reinforcement strategy\n",
    "            loss = agent.reinforce(prev_state, state,  action, reward, game_over)\n",
    "\n",
    "        # Save as a mp4\n",
    "        if e % 10 == 0:\n",
    "            env.draw(prefix+str(e))\n",
    "\n",
    "        # Update stats\n",
    "        score += win-lose\n",
    "\n",
    "        print(\"Epoch {:03d}/{:03d} | Loss {:.4f} | Win/lose count {}/{} ({})\"\n",
    "              .format(e, epoch, loss, win, lose, win-lose))\n",
    "        agent.save(name_weights=prefix+'model.h5',name_model=prefix+'model.json')\n",
    "        \n",
    "class EnvironmentExploring(object):\n",
    "    def __init__(self, grid_size=10, max_time=500, temperature=0.1):\n",
    "        grid_size = grid_size+4\n",
    "        self.grid_size = grid_size\n",
    "        self.max_time = max_time\n",
    "        self.temperature = temperature\n",
    "\n",
    "        #board on which one plays\n",
    "        self.board = np.zeros((grid_size,grid_size))\n",
    "        self.position = np.zeros((grid_size,grid_size))\n",
    "        self.malus_position = np.zeros((grid_size,grid_size))\n",
    "\n",
    "        # coordinate of the cat\n",
    "        self.x = 0\n",
    "        self.y = 1\n",
    "\n",
    "        # self time\n",
    "        self.t = 0\n",
    "\n",
    "        self.scale=16\n",
    "\n",
    "        self.to_draw = np.zeros((max_time+2, grid_size*self.scale, grid_size*self.scale, 3))\n",
    "        \n",
    "    def draw(self,e):\n",
    "        skvideo.io.vwrite(str(e) + '.mp4', self.to_draw)\n",
    "\n",
    "    def get_frame(self,t):\n",
    "        b = np.zeros((self.grid_size,self.grid_size,3))+128\n",
    "        b[self.board>0,0] = 256\n",
    "        b[self.board < 0, 2] = 256\n",
    "        b[self.x,self.y,:]=256\n",
    "        b[-2:,:,:]=0\n",
    "        b[:,-2:,:]=0\n",
    "        b[:2,:,:]=0\n",
    "        b[:,:2,:]=0\n",
    "        \n",
    "        b =  cv2.resize(b, None, fx=self.scale, fy=self.scale, interpolation=cv2.INTER_NEAREST)\n",
    "\n",
    "        self.to_draw[t,:,:,:]=b\n",
    "        \n",
    "    def act(self, action, train=False):\n",
    "        \"\"\"This function returns the new state, reward and decides if the\n",
    "        game ends.\"\"\"\n",
    "\n",
    "        self.get_frame(int(self.t))\n",
    "\n",
    "        self.position = np.zeros((self.grid_size, self.grid_size))\n",
    "\n",
    "        self.position[0:2,:]= -1\n",
    "        self.position[:,0:2] = -1\n",
    "        self.position[-2:, :] = -1 \n",
    "        self.position[:, -2:] = -1\n",
    "\n",
    "        self.position[self.x, self.y] = 1\n",
    "        if action == 0:\n",
    "            if self.x == self.grid_size-3:\n",
    "                self.x = self.x-1\n",
    "            else:\n",
    "                self.x = self.x + 1\n",
    "        elif action == 1:\n",
    "            if self.x == 2:\n",
    "                self.x = self.x+1\n",
    "            else:\n",
    "                self.x = self.x-1\n",
    "        elif action == 2:\n",
    "            if self.y == self.grid_size - 3:\n",
    "                self.y = self.y - 1\n",
    "            else:\n",
    "                self.y = self.y + 1\n",
    "        elif action == 3:\n",
    "            if self.y == 2:\n",
    "                self.y = self.y + 1\n",
    "            else:\n",
    "                self.y = self.y - 1\n",
    "        else:\n",
    "            RuntimeError('Error: action not recognized')\n",
    "            \n",
    "        self.t = self.t + 1\n",
    "        \n",
    "        reward = 0\n",
    "        if train:\n",
    "            reward = -self.malus_position[self.x, self.y]\n",
    "            \n",
    "        self.malus_position[self.x, self.y] += 0.1\n",
    "        reward = reward + self.board[self.x, self.y]   \n",
    "        \n",
    "        self.board[self.x, self.y] = 0 \n",
    "        game_over = self.t > self.max_time \n",
    "\n",
    "        state = np.concatenate((self.malus_position.reshape(self.grid_size, self.grid_size,1),\n",
    "                                self.board.reshape(self.grid_size, self.grid_size,1),\n",
    "                                self.position.reshape(self.grid_size, self.grid_size,1)),axis=2)\n",
    "        \n",
    "        state = state[self.x-2:self.x+3,self.y-2:self.y+3,:]\n",
    "\n",
    "        return state, reward, game_over\n",
    "\n",
    "    def reset(self):\n",
    "        \"\"\"This function resets the game and returns the initial state\"\"\"\n",
    "\n",
    "        self.x = np.random.randint(3, self.grid_size-3, size=1)[0]\n",
    "        self.y = np.random.randint(3, self.grid_size-3, size=1)[0]\n",
    "\n",
    "        # add 0.5 of reward in some cases of the board\n",
    "        bonus = 0.5*np.random.binomial(1,self.temperature,size=self.grid_size**2)\n",
    "        bonus = bonus.reshape(self.grid_size,self.grid_size)\n",
    "\n",
    "        # add -1 reward in some cases of the board\n",
    "        malus = -1.0*np.random.binomial(1,self.temperature,size=self.grid_size**2)\n",
    "        malus = malus.reshape(self.grid_size, self.grid_size)\n",
    "\n",
    "        self.to_draw = np.zeros((self.max_time+2, self.grid_size*self.scale, self.grid_size*self.scale, 3))\n",
    "        \n",
    "        malus[bonus>0]=0 # if both malus and bonus on the same case -> put 0\n",
    "\n",
    "        self.board = bonus + malus # board is 0 if no reward, -0.5 if malus, 1 if positive reward\n",
    "        \n",
    "        # lines added (put 0 poison/cheese outside the border)\n",
    "        self.board[:2,:] = 0\n",
    "        self.board[-2:,:] = 0\n",
    "        self.board[:, :2] = 0\n",
    "        self.board[:, -2:] = 0\n",
    "\n",
    "        self.position = np.zeros((self.grid_size, self.grid_size))\n",
    "        self.position[0:2,:]= -1\n",
    "        self.position[:,0:2] = -1\n",
    "        self.position[-2:, :] = -1 \n",
    "        self.position[:, -2:] = -1\n",
    "        self.board[self.x,self.y] = 0\n",
    "        self.t = 0\n",
    "        \n",
    "        self.malus_position = np.zeros((self.grid_size, self.grid_size))\n",
    "\n",
    "        state = np.concatenate((self.malus_position.reshape(self.grid_size, self.grid_size,1),\n",
    "                                self.board.reshape(self.grid_size, self.grid_size,1),\n",
    "                                self.position.reshape(self.grid_size, self.grid_size,1)),axis=2)\n",
    "\n",
    "        state = state[self.x - 2:self.x + 3, self.y - 2:self.y + 3, :]\n",
    "        return state\n",
    "    \n",
    "## use those samples of code:\n",
    "#In train explore:\n",
    "#state, reward, game_over = env.act(action, train=True)\n",
    "\n",
    "## In Environment exploring:\n",
    "# You will have to change n_state to 3 because you will use one more layer!\n",
    "#reward = 0\n",
    "#if train:\n",
    "#    reward = -self.malus_position[self.x, self.y]\n",
    "#self.malus_position[self.x, self.y] = 0.1\n",
    "\n",
    "#reward = reward + self.board[self.x, self.y]\n",
    "# 3 \"feature\" states instead of 2\n",
    "#state = np.concatenate((self.malus_position.reshape(self.grid_size, self.grid_size,1),\n",
    "#                               self.board.reshape(self.grid_size, self.grid_size,1),\n",
    "#                        self.position.reshape(self.grid_size, self.grid_size,1)),axis=2)"
   ]
  },
  {
   "cell_type": "code",
   "execution_count": 21,
   "metadata": {},
   "outputs": [
    {
     "name": "stdout",
     "output_type": "stream",
     "text": [
      "Epoch 000/020 | Loss 0.4065 | Win/lose count 15.5/60.100000000000044 (-44.600000000000044)\n",
      "Epoch 001/020 | Loss 0.0669 | Win/lose count 16.0/34.40000000000002 (-18.40000000000002)\n",
      "Epoch 002/020 | Loss 1.2712 | Win/lose count 20.0/20.899999999999977 (-0.8999999999999773)\n",
      "Epoch 003/020 | Loss 1.6782 | Win/lose count 28.0/13.199999999999982 (14.800000000000018)\n",
      "Epoch 004/020 | Loss 1.4119 | Win/lose count 22.0/15.999999999999995 (6.000000000000005)\n",
      "Epoch 005/020 | Loss 1.4654 | Win/lose count 14.5/24.799999999999994 (-10.299999999999994)\n",
      "Epoch 006/020 | Loss 1.3667 | Win/lose count 21.5/11.699999999999978 (9.800000000000022)\n",
      "Epoch 007/020 | Loss 1.2438 | Win/lose count 22.5/15.099999999999977 (7.4000000000000234)\n",
      "Epoch 008/020 | Loss 1.2264 | Win/lose count 20.5/18.499999999999993 (2.000000000000007)\n",
      "Epoch 009/020 | Loss 1.3022 | Win/lose count 19.0/14.199999999999985 (4.800000000000015)\n",
      "Epoch 010/020 | Loss 1.1591 | Win/lose count 17.5/15.199999999999989 (2.3000000000000114)\n",
      "Epoch 011/020 | Loss 1.0972 | Win/lose count 19.0/8.699999999999992 (10.300000000000008)\n",
      "Epoch 012/020 | Loss 1.2304 | Win/lose count 28.0/17.999999999999996 (10.000000000000004)\n",
      "Epoch 013/020 | Loss 0.8669 | Win/lose count 19.5/19.399999999999984 (0.10000000000001563)\n",
      "Epoch 014/020 | Loss 0.8649 | Win/lose count 20.5/17.499999999999982 (3.0000000000000178)\n",
      "Epoch 015/020 | Loss 0.9019 | Win/lose count 30.5/14.299999999999972 (16.200000000000028)\n",
      "Epoch 016/020 | Loss 1.1834 | Win/lose count 21.5/12.999999999999984 (8.500000000000016)\n",
      "Epoch 017/020 | Loss 1.2624 | Win/lose count 28.5/8.899999999999995 (19.600000000000005)\n",
      "Epoch 018/020 | Loss 1.1797 | Win/lose count 23.0/15.799999999999974 (7.200000000000026)\n",
      "Epoch 019/020 | Loss 1.0372 | Win/lose count 21.0/14.899999999999983 (6.100000000000017)\n"
     ]
    }
   ],
   "source": [
    "# Training\n",
    "env = EnvironmentExploring(grid_size=size, max_time=T, temperature=0.3)\n",
    "agent = DQN_CNN(size, lr=.1, epsilon = 0.1, memory_size=2000, batch_size = 32,n_state=3)\n",
    "train_explore(agent, env, epochs_train, prefix='cnn_train_explore')\n",
    "HTML(display_videos('cnn_train_explore10.mp4'))"
   ]
  },
  {
   "cell_type": "code",
   "execution_count": 22,
   "metadata": {},
   "outputs": [
    {
     "name": "stdout",
     "output_type": "stream",
     "text": [
      "Win/lose count 26.0/2.0. Average score (24.0)\n",
      "Win/lose count 26.5/2.0. Average score (24.25)\n",
      "Win/lose count 22.5/2.0. Average score (23.0)\n",
      "Win/lose count 23.5/3.0. Average score (22.375)\n",
      "Win/lose count 22.0/8.0. Average score (20.7)\n",
      "Win/lose count 18.5/4.0. Average score (19.666666666666668)\n",
      "Win/lose count 21.0/9.0. Average score (18.571428571428573)\n",
      "Win/lose count 20.5/4.0. Average score (18.3125)\n",
      "Win/lose count 26.5/5.0. Average score (18.666666666666668)\n",
      "Win/lose count 26.0/3.0. Average score (19.1)\n",
      "Final score: 19.1\n"
     ]
    }
   ],
   "source": [
    "# Evaluation\n",
    "test(agent,env,epochs_test,prefix='cnn_test_explore')\n",
    "HTML(display_videos('cnn_test_explore10.mp4'))"
   ]
  },
  {
   "cell_type": "markdown",
   "metadata": {},
   "source": [
    "***\n",
    "***\n",
    "__BONUS question__ Use the expert DQN from the previous question to generate some winning games. Train a model that mimicks its behavior. Compare the performances."
   ]
  },
  {
   "cell_type": "markdown",
   "metadata": {},
   "source": []
  },
  {
   "cell_type": "markdown",
   "metadata": {},
   "source": [
    "***"
   ]
  }
 ],
 "metadata": {
  "kernelspec": {
   "display_name": "Python 3",
   "language": "python",
   "name": "python3"
  },
  "language_info": {
   "codemirror_mode": {
    "name": "ipython",
    "version": 3
   },
   "file_extension": ".py",
   "mimetype": "text/x-python",
   "name": "python",
   "nbconvert_exporter": "python",
   "pygments_lexer": "ipython3",
   "version": "3.6.7"
  }
 },
 "nbformat": 4,
 "nbformat_minor": 2
}
